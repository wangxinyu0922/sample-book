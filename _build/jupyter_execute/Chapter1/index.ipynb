{
 "cells": [
  {
   "cell_type": "markdown",
   "id": "bf3e46fb",
   "metadata": {},
   "source": [
    "# 第一部分Guide"
   ]
  },
  {
   "cell_type": "markdown",
   "id": "cf84345f",
   "metadata": {},
   "source": []
  }
 ],
 "metadata": {
  "kernelspec": {
   "display_name": "Python 3 (ipykernel)",
   "language": "python",
   "name": "python3"
  },
  "language_info": {
   "codemirror_mode": {
    "name": "ipython",
    "version": 3
   },
   "file_extension": ".py",
   "mimetype": "text/x-python",
   "name": "python",
   "nbconvert_exporter": "python",
   "pygments_lexer": "ipython3",
   "version": "3.9.7"
  }
 },
 "nbformat": 4,
 "nbformat_minor": 5
}