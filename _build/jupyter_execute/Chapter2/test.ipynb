{
 "cells": [
  {
   "cell_type": "markdown",
   "id": "e58b3af1",
   "metadata": {},
   "source": [
    "# 测试\n"
   ]
  },
  {
   "cell_type": "markdown",
   "id": "98698487",
   "metadata": {},
   "source": [
    "{cite}`holdgraf_evidence_2014`"
   ]
  },
  {
   "cell_type": "code",
   "execution_count": null,
   "id": "3daaa01c",
   "metadata": {},
   "outputs": [],
   "source": []
  }
 ],
 "metadata": {
  "kernelspec": {
   "display_name": "Python 3 (ipykernel)",
   "language": "python",
   "name": "python3"
  },
  "language_info": {
   "codemirror_mode": {
    "name": "ipython",
    "version": 3
   },
   "file_extension": ".py",
   "mimetype": "text/x-python",
   "name": "python",
   "nbconvert_exporter": "python",
   "pygments_lexer": "ipython3",
   "version": "3.9.7"
  }
 },
 "nbformat": 4,
 "nbformat_minor": 5
}