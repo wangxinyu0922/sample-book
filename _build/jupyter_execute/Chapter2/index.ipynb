{
 "cells": [
  {
   "cell_type": "markdown",
   "id": "b352418d",
   "metadata": {},
   "source": [
    "# 第二部分Guide"
   ]
  },
  {
   "cell_type": "markdown",
   "id": "e3cdb82f",
   "metadata": {},
   "source": [
    " - [Chapter 1](../Chapter1/index.ipynb)\n",
    " - [Chapter 2.1](test.ipynb)"
   ]
  }
 ],
 "metadata": {
  "kernelspec": {
   "display_name": "Python 3 (ipykernel)",
   "language": "python",
   "name": "python3"
  },
  "language_info": {
   "codemirror_mode": {
    "name": "ipython",
    "version": 3
   },
   "file_extension": ".py",
   "mimetype": "text/x-python",
   "name": "python",
   "nbconvert_exporter": "python",
   "pygments_lexer": "ipython3",
   "version": "3.9.7"
  }
 },
 "nbformat": 4,
 "nbformat_minor": 5
}